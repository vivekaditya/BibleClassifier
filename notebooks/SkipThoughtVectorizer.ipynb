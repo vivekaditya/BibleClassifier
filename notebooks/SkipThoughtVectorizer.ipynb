{
 "cells": [
  {
   "cell_type": "markdown",
   "metadata": {},
   "source": [
    "### SkipThought Vectorizer  Based KNN Classifier\n",
    "This notebook creates SkipThought vectors out of the dataset provided. Tensorflow has a pretrained skip-thought vector model. we will use it."
   ]
  },
  {
   "cell_type": "markdown",
   "metadata": {},
   "source": [
    "### Adding skip_thoughts library to path"
   ]
  },
  {
   "cell_type": "code",
   "execution_count": 1,
   "metadata": {
    "collapsed": true
   },
   "outputs": [],
   "source": [
    "import sys\n",
    "sys.path.append(\"/mnt/magnetar/data/models/skip_thoughts\") "
   ]
  },
  {
   "cell_type": "markdown",
   "metadata": {},
   "source": [
    "### Imports"
   ]
  },
  {
   "cell_type": "code",
   "execution_count": 2,
   "metadata": {
    "collapsed": true
   },
   "outputs": [],
   "source": [
    "import numpy as np\n",
    "import pandas as pd\n",
    "import csv\n",
    "import os.path \n",
    "from skip_thoughts import configuration\n",
    "from skip_thoughts import encoder_manager\n",
    "from sklearn.neighbors import KNeighborsClassifier\n",
    "from sklearn.model_selection import train_test_split\n",
    "from sklearn.metrics.pairwise import cosine_similarity\n",
    "import sklearn.metrics as metrics"
   ]
  },
  {
   "cell_type": "markdown",
   "metadata": {},
   "source": [
    "### Set paths to the model."
   ]
  },
  {
   "cell_type": "code",
   "execution_count": 3,
   "metadata": {
    "collapsed": true
   },
   "outputs": [],
   "source": [
    "VOCAB_FILE = \"/mnt/magnetar/data/skip_thoughts_bi_2017_02_16/vocab.txt\"\n",
    "EMBEDDING_MATRIX_FILE = \"/mnt/magnetar/data/skip_thoughts_bi_2017_02_16/embeddings.npy\"\n",
    "CHECKPOINT_PATH = \"/mnt/magnetar/data/skip_thoughts_bi_2017_02_16/model.ckpt-500008\" "
   ]
  },
  {
   "cell_type": "markdown",
   "metadata": {},
   "source": [
    "### Setting up the encoder. Here we are using a bidirectional model. "
   ]
  },
  {
   "cell_type": "code",
   "execution_count": 4,
   "metadata": {},
   "outputs": [
    {
     "name": "stdout",
     "output_type": "stream",
     "text": [
      "INFO:tensorflow:Reading vocabulary from /mnt/magnetar/data/skip_thoughts_bi_2017_02_16/vocab.txt\n",
      "INFO:tensorflow:Loaded vocabulary with 930914 words.\n",
      "INFO:tensorflow:Loading embedding matrix from /mnt/magnetar/data/skip_thoughts_bi_2017_02_16/embeddings.npy\n",
      "INFO:tensorflow:Loaded embedding matrix with shape (930914, 620)\n",
      "INFO:tensorflow:Building model.\n",
      "INFO:tensorflow:Loading model from checkpoint: /mnt/magnetar/data/skip_thoughts_bi_2017_02_16/model.ckpt-500008\n",
      "INFO:tensorflow:Restoring parameters from /mnt/magnetar/data/skip_thoughts_bi_2017_02_16/model.ckpt-500008\n",
      "INFO:tensorflow:Successfully loaded checkpoint: model.ckpt-500008\n"
     ]
    }
   ],
   "source": [
    "encoder = encoder_manager.EncoderManager()\n",
    "encoder.load_model(configuration.model_config(bidirectional_encoder=True),\n",
    "                   vocabulary_file=VOCAB_FILE,\n",
    "                   embedding_matrix_file=EMBEDDING_MATRIX_FILE,\n",
    "                   checkpoint_path=CHECKPOINT_PATH)"
   ]
  },
  {
   "cell_type": "markdown",
   "metadata": {},
   "source": [
    "### Reading the dataset"
   ]
  },
  {
   "cell_type": "code",
   "execution_count": 5,
   "metadata": {
    "collapsed": true
   },
   "outputs": [],
   "source": [
    "df = pd.read_csv('data/bible_data_set_full.csv',sep='\\t')\n",
    "np.random.seed(seed=45)"
   ]
  },
  {
   "cell_type": "markdown",
   "metadata": {},
   "source": [
    "### Creating encodings for Text"
   ]
  },
  {
   "cell_type": "code",
   "execution_count": 6,
   "metadata": {
    "collapsed": true
   },
   "outputs": [],
   "source": [
    "y = df['testment']\n",
    "X_train,X_test,Y_train,Y_test = train_test_split(df,y,test_size = 0.3,random_state = 45)"
   ]
  },
  {
   "cell_type": "markdown",
   "metadata": {},
   "source": [
    "### Creating KNN classifier"
   ]
  },
  {
   "cell_type": "code",
   "execution_count": 7,
   "metadata": {},
   "outputs": [
    {
     "data": {
      "text/plain": [
       "KNeighborsClassifier(algorithm='auto', leaf_size=30, metric='minkowski',\n",
       "           metric_params=None, n_jobs=-1, n_neighbors=10, p=2,\n",
       "           weights='distance')"
      ]
     },
     "execution_count": 7,
     "metadata": {},
     "output_type": "execute_result"
    }
   ],
   "source": [
    "neigh = KNeighborsClassifier(n_neighbors=10,weights=\"distance\",n_jobs=-1)\n",
    "neigh.fit(encoder.encode(X_train['text']), Y_train) "
   ]
  },
  {
   "cell_type": "markdown",
   "metadata": {},
   "source": [
    "### Cosine Distance between light and dark"
   ]
  },
  {
   "cell_type": "code",
   "execution_count": 8,
   "metadata": {},
   "outputs": [
    {
     "name": "stdout",
     "output_type": "stream",
     "text": [
      "[[ 0.48266226]]\n"
     ]
    }
   ],
   "source": [
    "print(1 - cosine_similarity(encoder.encode([\"light\"]),encoder.encode([\"dark\"])))\n",
    "# print(cosine_similarity(encoder.encode([\"light\"]),encoder.encode([\"god\"])))"
   ]
  },
  {
   "cell_type": "markdown",
   "metadata": {},
   "source": [
    "### Predicting and calculating accuracy "
   ]
  },
  {
   "cell_type": "code",
   "execution_count": 9,
   "metadata": {},
   "outputs": [
    {
     "name": "stdout",
     "output_type": "stream",
     "text": [
      "9331\n",
      "9331\n"
     ]
    }
   ],
   "source": [
    "y_pred = neigh.predict(encoder.encode(X_test['text']))\n",
    "print(len(y_pred)) \n",
    "print(len(Y_test)) "
   ]
  },
  {
   "cell_type": "code",
   "execution_count": 10,
   "metadata": {},
   "outputs": [
    {
     "name": "stdout",
     "output_type": "stream",
     "text": [
      "(0.84143222506393855, 0.6892254455649609, 0.7209215890896542, None)\n",
      "(0.82949308755760365, 0.82949308755760365, 0.82949308755760365, None)\n",
      "(0.83377306041631238, 0.82949308755760365, 0.80578271392310807, None)\n",
      "[[ 960 1431]\n",
      " [ 160 6780]]\n"
     ]
    }
   ],
   "source": [
    "actual_labels = Y_test\n",
    "predicted_labels = y_pred \n",
    "print(metrics.precision_recall_fscore_support(actual_labels, predicted_labels, average='macro'))\n",
    "print(metrics.precision_recall_fscore_support(actual_labels, predicted_labels, average='micro'))\n",
    "print(metrics.precision_recall_fscore_support(actual_labels, predicted_labels, average='weighted'))\n",
    "print(metrics.confusion_matrix(actual_labels, predicted_labels,np.unique(actual_labels))) "
   ]
  }
 ],
 "metadata": {
  "kernelspec": {
   "display_name": "Python 2",
   "language": "python",
   "name": "python2"
  },
  "language_info": {
   "codemirror_mode": {
    "name": "ipython",
    "version": 2
   },
   "file_extension": ".py",
   "mimetype": "text/x-python",
   "name": "python",
   "nbconvert_exporter": "python",
   "pygments_lexer": "ipython2",
   "version": "2.7.12"
  }
 },
 "nbformat": 4,
 "nbformat_minor": 2
}
